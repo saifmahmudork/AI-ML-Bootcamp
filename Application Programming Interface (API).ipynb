{
 "cells": [
  {
   "cell_type": "code",
   "execution_count": null,
   "id": "655af68a-92ba-41c9-b375-abb00e1a280d",
   "metadata": {},
   "outputs": [],
   "source": [
    "#\n",
    "Application Programming Interface (API)\n",
    "set of rules and protocols\n",
    "allows one piece of software to interect with another\n",
    "use to communicate with external services (data formats)\n",
    "relation with clients phone with company server's database \n",
    "api works over internet using protocols like HTTP (Hypertext Transfer Protocol"
   ]
  },
  {
   "cell_type": "code",
   "execution_count": 1,
   "id": "7665436f-db66-4b4b-a79c-554e7632b85c",
   "metadata": {},
   "outputs": [
    {
     "data": {
      "text/plain": [
       "200"
      ]
     },
     "execution_count": 1,
     "metadata": {},
     "output_type": "execute_result"
    }
   ],
   "source": [
    "import requests\n",
    "url = \"https://dog.ceo/api/breeds/image/random\"\n",
    "response = requests.get (url)\n",
    "response.status_code"
   ]
  },
  {
   "cell_type": "code",
   "execution_count": 2,
   "id": "56b94043-7144-4b70-838f-e814164b900e",
   "metadata": {},
   "outputs": [],
   "source": [
    "if response.status_code == 200:\n",
    "    data = response.json()\n",
    "    dog_image_url = data['message']\n",
    "    data\n",
    "    "
   ]
  },
  {
   "cell_type": "code",
   "execution_count": 3,
   "id": "b36bbf08-b58a-4aee-bb95-ec47f8302c30",
   "metadata": {},
   "outputs": [
    {
     "data": {
      "text/html": [
       "<div>\n",
       "<style scoped>\n",
       "    .dataframe tbody tr th:only-of-type {\n",
       "        vertical-align: middle;\n",
       "    }\n",
       "\n",
       "    .dataframe tbody tr th {\n",
       "        vertical-align: top;\n",
       "    }\n",
       "\n",
       "    .dataframe thead th {\n",
       "        text-align: right;\n",
       "    }\n",
       "</style>\n",
       "<table border=\"1\" class=\"dataframe\">\n",
       "  <thead>\n",
       "    <tr style=\"text-align: right;\">\n",
       "      <th></th>\n",
       "      <th>0</th>\n",
       "    </tr>\n",
       "  </thead>\n",
       "  <tbody>\n",
       "    <tr>\n",
       "      <th>0</th>\n",
       "      <td>b'&lt;!DOCTYPE html&gt;\\n&lt;html lang=\"en\" id=\"faceboo...</td>\n",
       "    </tr>\n",
       "    <tr>\n",
       "      <th>1</th>\n",
       "      <td>b't\" id=\"meta_referrer\" /&gt;&lt;script nonce=\"PHCUQ...</td>\n",
       "    </tr>\n",
       "    <tr>\n",
       "      <th>2</th>\n",
       "      <td>b'window.requireLazy([\"Env\"],b):(window.Env=wi...</td>\n",
       "    </tr>\n",
       "    <tr>\n",
       "      <th>3</th>\n",
       "      <td>b'nly\":false,\"ajaxpipe_token\":\"AXjhZeXV76-nRjP...</td>\n",
       "    </tr>\n",
       "    <tr>\n",
       "      <th>4</th>\n",
       "      <td>b'se,\"compat_iframe_token\":\"AUUuB3lK1T4ehq-vA_...</td>\n",
       "    </tr>\n",
       "    <tr>\n",
       "      <th>5</th>\n",
       "      <td>b'lse});&lt;/script&gt;&lt;script nonce=\"PHCUQmQg\"&gt;wind...</td>\n",
       "    </tr>\n",
       "    <tr>\n",
       "      <th>6</th>\n",
       "      <td>b't nonce=\"PHCUQmQg\"&gt;_btldr={};&lt;/script&gt;&lt;scrip...</td>\n",
       "    </tr>\n",
       "    <tr>\n",
       "      <th>7</th>\n",
       "      <td>b'&amp;a.parentElement!==document.head}function b(...</td>\n",
       "    </tr>\n",
       "    <tr>\n",
       "      <th>8</th>\n",
       "      <td>b'Css)}function c(a){return!(a.dataset instanc...</td>\n",
       "    </tr>\n",
       "    <tr>\n",
       "      <th>9</th>\n",
       "      <td>b'.ELEMENT_NODE)return}catch(a){return}if(a(d)...</td>\n",
       "    </tr>\n",
       "  </tbody>\n",
       "</table>\n",
       "</div>"
      ],
      "text/plain": [
       "                                                   0\n",
       "0  b'<!DOCTYPE html>\\n<html lang=\"en\" id=\"faceboo...\n",
       "1  b't\" id=\"meta_referrer\" /><script nonce=\"PHCUQ...\n",
       "2  b'window.requireLazy([\"Env\"],b):(window.Env=wi...\n",
       "3  b'nly\":false,\"ajaxpipe_token\":\"AXjhZeXV76-nRjP...\n",
       "4  b'se,\"compat_iframe_token\":\"AUUuB3lK1T4ehq-vA_...\n",
       "5  b'lse});</script><script nonce=\"PHCUQmQg\">wind...\n",
       "6  b't nonce=\"PHCUQmQg\">_btldr={};</script><scrip...\n",
       "7  b'&a.parentElement!==document.head}function b(...\n",
       "8  b'Css)}function c(a){return!(a.dataset instanc...\n",
       "9  b'.ELEMENT_NODE)return}catch(a){return}if(a(d)..."
      ]
     },
     "execution_count": 3,
     "metadata": {},
     "output_type": "execute_result"
    }
   ],
   "source": [
    "import requests\n",
    "import pandas as pd\n",
    "url = \"https://www.facebook.com\"\n",
    "response = requests.get(\"https://www.facebook.com\")\n",
    "response.status_code\n",
    "df = pd.DataFrame (response)\n",
    "df.head(10)"
   ]
  },
  {
   "cell_type": "code",
   "execution_count": null,
   "id": "9874becb-36ab-4f17-83a1-0a74d14ec67a",
   "metadata": {},
   "outputs": [],
   "source": []
  }
 ],
 "metadata": {
  "kernelspec": {
   "display_name": "Python [conda env:base] *",
   "language": "python",
   "name": "conda-base-py"
  },
  "language_info": {
   "codemirror_mode": {
    "name": "ipython",
    "version": 3
   },
   "file_extension": ".py",
   "mimetype": "text/x-python",
   "name": "python",
   "nbconvert_exporter": "python",
   "pygments_lexer": "ipython3",
   "version": "3.12.7"
  }
 },
 "nbformat": 4,
 "nbformat_minor": 5
}
