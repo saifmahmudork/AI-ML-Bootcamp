{
 "cells": [
  {
   "cell_type": "code",
   "execution_count": 3,
   "id": "912428f1-7c7c-4c4b-bfc2-9640ed9435d8",
   "metadata": {},
   "outputs": [],
   "source": [
    "#Write a program that checks if a user is eligible to vote. \n",
    "#• Instructions:–– Ask the user for their age and \n",
    "    use a conditional statement to check if they are at least 18 years old.\n",
    "#Print a message indicating whether they are eligible to vote or not."
   ]
  },
  {
   "cell_type": "code",
   "execution_count": 11,
   "id": "2cb8a203-e3dd-41c3-a97c-b6371e895494",
   "metadata": {},
   "outputs": [
    {
     "name": "stdout",
     "output_type": "stream",
     "text": [
      "You are eligible to vote\n"
     ]
    }
   ],
   "source": [
    "Age = 19\n",
    "if Age > 18:\n",
    "    print ('You are eligible to vote')\n",
    "elif Age == 18:\n",
    "    print ('you are eligible to vote')\n",
    "else:\n",
    "    print ('You are not eligible to vote')"
   ]
  },
  {
   "cell_type": "code",
   "execution_count": 14,
   "id": "49bb30a3-dc8f-4e80-8f38-11fe67cf483c",
   "metadata": {},
   "outputs": [
    {
     "name": "stdin",
     "output_type": "stream",
     "text": [
      "Enter your age 55\n"
     ]
    },
    {
     "name": "stdout",
     "output_type": "stream",
     "text": [
      "You are eligible to vote\n"
     ]
    }
   ],
   "source": [
    "user_input = input(\"Enter your age\")\n",
    "if Age > 18:\n",
    "    print ('You are eligible to vote')\n",
    "elif Age == 18:\n",
    "    print ('you are eligible to vote')\n",
    "else:\n",
    "    print ('You are not eligible to vote')"
   ]
  },
  {
   "cell_type": "code",
   "execution_count": null,
   "id": "2461c1df-20bb-4fda-90db-fe84de021e42",
   "metadata": {},
   "outputs": [],
   "source": []
  }
 ],
 "metadata": {
  "kernelspec": {
   "display_name": "Python [conda env:base] *",
   "language": "python",
   "name": "conda-base-py"
  },
  "language_info": {
   "codemirror_mode": {
    "name": "ipython",
    "version": 3
   },
   "file_extension": ".py",
   "mimetype": "text/x-python",
   "name": "python",
   "nbconvert_exporter": "python",
   "pygments_lexer": "ipython3",
   "version": "3.12.7"
  }
 },
 "nbformat": 4,
 "nbformat_minor": 5
}
