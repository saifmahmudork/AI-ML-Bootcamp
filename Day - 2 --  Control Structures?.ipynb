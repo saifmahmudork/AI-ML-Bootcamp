{
 "cells": [
  {
   "cell_type": "code",
   "execution_count": 1,
   "id": "31e26fa9-2fc4-4c74-90fb-39dac7d45b9b",
   "metadata": {},
   "outputs": [
    {
     "data": {
      "text/plain": [
       "int"
      ]
     },
     "execution_count": 1,
     "metadata": {},
     "output_type": "execute_result"
    }
   ],
   "source": [
    "num2= 20\n",
    "type(num2)"
   ]
  },
  {
   "cell_type": "code",
   "execution_count": 2,
   "id": "26f2242e-d1b0-42cc-b5c4-c00e738cdcf8",
   "metadata": {},
   "outputs": [
    {
     "data": {
      "text/plain": [
       "float"
      ]
     },
     "execution_count": 2,
     "metadata": {},
     "output_type": "execute_result"
    }
   ],
   "source": [
    "num3= 20.05\n",
    "type(num3)"
   ]
  },
  {
   "cell_type": "code",
   "execution_count": 4,
   "id": "f528a2ed-0c68-4d57-934c-89c4e6def66d",
   "metadata": {},
   "outputs": [
    {
     "data": {
      "text/plain": [
       "str"
      ]
     },
     "execution_count": 4,
     "metadata": {},
     "output_type": "execute_result"
    }
   ],
   "source": [
    "#num4= 20     #type(int/float/string) variable_name(var1) = values\n",
    "#num4(variable_name)= 20.05(value)\n",
    "num4= \"20.05\"\n",
    "type (num4)"
   ]
  },
  {
   "cell_type": "code",
   "execution_count": 6,
   "id": "1212fea3-95ab-4522-8f6e-c87c862b02eb",
   "metadata": {},
   "outputs": [
    {
     "name": "stdin",
     "output_type": "stream",
     "text": [
      "Enter the Integer Number 67.9\n"
     ]
    },
    {
     "ename": "ValueError",
     "evalue": "invalid literal for int() with base 10: '67.9'",
     "output_type": "error",
     "traceback": [
      "\u001b[0;31m---------------------------------------------------------------------------\u001b[0m",
      "\u001b[0;31mValueError\u001b[0m                                Traceback (most recent call last)",
      "Cell \u001b[0;32mIn[6], line 2\u001b[0m\n\u001b[1;32m      1\u001b[0m \u001b[38;5;66;03m#num3 = 50 --> hardcoded\u001b[39;00m\n\u001b[0;32m----> 2\u001b[0m num3 \u001b[38;5;241m=\u001b[39m \u001b[38;5;28mint\u001b[39m(\u001b[38;5;28minput\u001b[39m(\u001b[38;5;124m\"\u001b[39m\u001b[38;5;124mEnter the Integer Number\u001b[39m\u001b[38;5;124m\"\u001b[39m))\n",
      "\u001b[0;31mValueError\u001b[0m: invalid literal for int() with base 10: '67.9'"
     ]
    }
   ],
   "source": [
    "#num3 = 50 --> hardcoded\n",
    "num3 = int(input(\"Enter the Integer Number\"))\n"
   ]
  },
  {
   "cell_type": "code",
   "execution_count": 8,
   "id": "1328e293-8f38-4f6d-8344-a65b855a4506",
   "metadata": {},
   "outputs": [
    {
     "name": "stdin",
     "output_type": "stream",
     "text": [
      "Enter A Number 67.09\n"
     ]
    }
   ],
   "source": [
    "num3 = input(\"Enter A Number\")"
   ]
  },
  {
   "cell_type": "code",
   "execution_count": 9,
   "id": "b05ce4f1-c1eb-40e8-a231-6037d5f81d65",
   "metadata": {},
   "outputs": [
    {
     "name": "stdin",
     "output_type": "stream",
     "text": [
      "Enter A Number 679800\n"
     ]
    }
   ],
   "source": [
    "num3 =  int(input(\"Enter A Number\"))"
   ]
  },
  {
   "cell_type": "code",
   "execution_count": 10,
   "id": "7dfdf5ff-c829-4fdd-90df-b6108c2b2820",
   "metadata": {},
   "outputs": [
    {
     "name": "stdin",
     "output_type": "stream",
     "text": [
      "Enter A Number 67.09\n"
     ]
    }
   ],
   "source": [
    "num3 =  float(input(\"Enter A Number\"))"
   ]
  },
  {
   "cell_type": "code",
   "execution_count": 11,
   "id": "b106b046-b817-4ae0-a450-6340b5075063",
   "metadata": {},
   "outputs": [
    {
     "data": {
      "text/plain": [
       "'3.141590000'"
      ]
     },
     "execution_count": 11,
     "metadata": {},
     "output_type": "execute_result"
    }
   ],
   "source": [
    "\"{:.9f}\".format(3.14159)"
   ]
  },
  {
   "cell_type": "code",
   "execution_count": 13,
   "id": "38f863c6-883e-4159-8650-2977d56de60b",
   "metadata": {},
   "outputs": [
    {
     "data": {
      "text/plain": [
       "'3.1416'"
      ]
     },
     "execution_count": 13,
     "metadata": {},
     "output_type": "execute_result"
    }
   ],
   "source": [
    "\"{:.4f}\".format(3.14159)"
   ]
  },
  {
   "cell_type": "code",
   "execution_count": 14,
   "id": "df105564-1e64-4f44-ad17-040e431533b1",
   "metadata": {},
   "outputs": [
    {
     "data": {
      "text/plain": [
       "'3.1415900'"
      ]
     },
     "execution_count": 14,
     "metadata": {},
     "output_type": "execute_result"
    }
   ],
   "source": [
    "\"{:.7f}\".format(3.14159)"
   ]
  },
  {
   "cell_type": "code",
   "execution_count": 16,
   "id": "450fa983-723a-4c6b-aa83-85cc8507c6ce",
   "metadata": {},
   "outputs": [
    {
     "name": "stdin",
     "output_type": "stream",
     "text": [
      "Enter a number 56.56\n"
     ]
    }
   ],
   "source": [
    "#how to take input from user\n",
    "num8 = input(\"Enter a number\")  --># in python by default all the input its a string \n"
   ]
  },
  {
   "cell_type": "code",
   "execution_count": 17,
   "id": "6239e2e9-764c-4465-b878-47f422f6a887",
   "metadata": {},
   "outputs": [
    {
     "data": {
      "text/plain": [
       "str"
      ]
     },
     "execution_count": 17,
     "metadata": {},
     "output_type": "execute_result"
    }
   ],
   "source": [
    "type(num8)\n"
   ]
  },
  {
   "cell_type": "code",
   "execution_count": 18,
   "id": "13d0ca33-38a8-4487-90fe-5e79bc94ace8",
   "metadata": {},
   "outputs": [
    {
     "name": "stdin",
     "output_type": "stream",
     "text": [
      "Enter a number 56.56\n"
     ]
    },
    {
     "ename": "ValueError",
     "evalue": "invalid literal for int() with base 10: '56.56'",
     "output_type": "error",
     "traceback": [
      "\u001b[0;31m---------------------------------------------------------------------------\u001b[0m",
      "\u001b[0;31mValueError\u001b[0m                                Traceback (most recent call last)",
      "Cell \u001b[0;32mIn[18], line 1\u001b[0m\n\u001b[0;32m----> 1\u001b[0m num8 \u001b[38;5;241m=\u001b[39m \u001b[38;5;28mint\u001b[39m(\u001b[38;5;28minput\u001b[39m(\u001b[38;5;124m\"\u001b[39m\u001b[38;5;124mEnter a number\u001b[39m\u001b[38;5;124m\"\u001b[39m))\n",
      "\u001b[0;31mValueError\u001b[0m: invalid literal for int() with base 10: '56.56'"
     ]
    }
   ],
   "source": [
    "num8 = int(input(\"Enter a number\"))"
   ]
  },
  {
   "cell_type": "code",
   "execution_count": 21,
   "id": "4f3f20ac-a8be-47d9-b473-a9230078061a",
   "metadata": {
    "scrolled": true
   },
   "outputs": [
    {
     "data": {
      "text/plain": [
       "56.56"
      ]
     },
     "execution_count": 21,
     "metadata": {},
     "output_type": "execute_result"
    }
   ],
   "source": [
    "num8 = float(num8)\n",
    "num8"
   ]
  },
  {
   "cell_type": "code",
   "execution_count": 22,
   "id": "c67ce57a-0e75-44be-b3ce-0325d10d5048",
   "metadata": {},
   "outputs": [
    {
     "data": {
      "text/plain": [
       "56"
      ]
     },
     "execution_count": 22,
     "metadata": {},
     "output_type": "execute_result"
    }
   ],
   "source": [
    "num8 = int(float(num8))\n",
    "num8"
   ]
  },
  {
   "cell_type": "code",
   "execution_count": null,
   "id": "d7f37d0d-97d8-4b42-b6a1-edc324246100",
   "metadata": {},
   "outputs": [],
   "source": [
    "##Conditional\n",
    "if condition:\n",
    "    #code to execute if the condition is True\n",
    "else condition:\n",
    "    # code to execute if the condition is False"
   ]
  },
  {
   "cell_type": "code",
   "execution_count": 25,
   "id": "36b6eedd-2e9c-4485-8ed5-8d9b9bcfb6e4",
   "metadata": {},
   "outputs": [
    {
     "name": "stdout",
     "output_type": "stream",
     "text": [
      "the numner is positive\n"
     ]
    }
   ],
   "source": [
    "number = 10 \n",
    "if number >0:\n",
    "    print(\"the numner is positive\")\n",
    "else:\n",
    "    print(\"the is not positive\")"
   ]
  },
  {
   "cell_type": "code",
   "execution_count": 31,
   "id": "5673b46d-ab9a-4253-8649-54206b38595e",
   "metadata": {},
   "outputs": [
    {
     "name": "stdout",
     "output_type": "stream",
     "text": [
      "the number is positive\n"
     ]
    }
   ],
   "source": [
    "number = 7 \n",
    "if number > 0:\n",
    "    print(\"the number is positive\")\n",
    "elif num == 0:\n",
    "    print (\"The number is zero\")\n",
    "else:\n",
    "    print(\"the number is not positive\")"
   ]
  },
  {
   "cell_type": "code",
   "execution_count": 41,
   "id": "7bd9162c-8191-4b0a-8a39-965f74f7b817",
   "metadata": {},
   "outputs": [
    {
     "name": "stdin",
     "output_type": "stream",
     "text": [
      "enter rock, paper, or scissor: paper\n"
     ]
    },
    {
     "name": "stdout",
     "output_type": "stream",
     "text": [
      "you choose paper and the computer choose rock. you win!\n"
     ]
    }
   ],
   "source": [
    "import random\n",
    "choices = [\"rock\", \"paper\", \"scissors\"]\n",
    "computer_choices = random.choice(choices)\n",
    "player_choices = input(\"enter rock, paper, or scissor:\").lower()\n",
    "if player_choices == computer_choices:\n",
    "    print(f\"Both choose{player_choices}. It's a tie!\")\n",
    "elif(player_choices == \"rock\" and computer_choices == \"scissors\") or \\\n",
    "    (player_choices == \"scissors\" and computer_choices == \"paper\") or \\\n",
    "    (player_choices == \"paper\" and computer_choices == \"rock\"):\n",
    "    print(f\"you choose {player_choices} and the computer choose {computer_choices}. you win!\")\n",
    "else:\n",
    "    print(f\"You choose {player_choices} and the computer chose {computer_choices}. You lose!\")"
   ]
  },
  {
   "cell_type": "code",
   "execution_count": 42,
   "id": "b809e841-7acd-4857-ad89-eb1141b7d4a9",
   "metadata": {},
   "outputs": [
    {
     "name": "stdin",
     "output_type": "stream",
     "text": [
      "enter rock, paper, or scissor: rock\n"
     ]
    },
    {
     "name": "stdout",
     "output_type": "stream",
     "text": [
      "you choose rock and the computer choose scissors. you win!\n"
     ]
    }
   ],
   "source": [
    "# ROCK, PAPER & SCISSOR game\n",
    "\n",
    "import random\n",
    "choices = [\"rock\", \"paper\", \"scissors\"]\n",
    "computer_choices = random.choice(choices)\n",
    "player_choices = input(\"enter rock, paper, or scissor:\").lower()\n",
    "if player_choices == computer_choices:\n",
    "    print(f\"Both choose{player_choices}. It's a tie!\")\n",
    "elif(player_choices == \"rock\" and computer_choices == \"scissors\") or \\\n",
    "    (player_choices == \"scissors\" and computer_choices == \"paper\") or \\\n",
    "    (player_choices == \"paper\" and computer_choices == \"rock\"):\n",
    "    print(f\"you choose {player_choices} and the computer choose {computer_choices}. you win!\")\n",
    "else:\n",
    "    print(f\"You choose {player_choices} and the computer chose {computer_choices}. You lose!\")"
   ]
  },
  {
   "cell_type": "code",
   "execution_count": null,
   "id": "d85bc2c8-8072-403c-ab5b-0023e46fa405",
   "metadata": {},
   "outputs": [],
   "source": []
  }
 ],
 "metadata": {
  "kernelspec": {
   "display_name": "Python [conda env:base] *",
   "language": "python",
   "name": "conda-base-py"
  },
  "language_info": {
   "codemirror_mode": {
    "name": "ipython",
    "version": 3
   },
   "file_extension": ".py",
   "mimetype": "text/x-python",
   "name": "python",
   "nbconvert_exporter": "python",
   "pygments_lexer": "ipython3",
   "version": "3.12.7"
  }
 },
 "nbformat": 4,
 "nbformat_minor": 5
}
