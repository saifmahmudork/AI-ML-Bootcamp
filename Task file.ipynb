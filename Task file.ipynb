{
 "cells": [
  {
   "cell_type": "code",
   "execution_count": 1,
   "id": "4456905f-9c9d-4450-892d-e50f1bc86dab",
   "metadata": {},
   "outputs": [
    {
     "name": "stdout",
     "output_type": "stream",
     "text": [
      "Maximum: 90\n",
      "Minimum: 42\n"
     ]
    }
   ],
   "source": [
    "#Task1\n",
    "#Find the Maximum and Minimum of a List\n",
    "#Question: Given a list of numbers, find the maximum and minimum values.\n",
    "numbers = [45, 67, 89, 44, 70, 90, 54, 42]\n",
    "maximum = max(numbers)\n",
    "minimum = min(numbers)\n",
    "print (\"Maximum:\", maximum)\n",
    "print (\"Minimum:\", minimum)"
   ]
  },
  {
   "cell_type": "code",
   "execution_count": 2,
   "id": "cef92580-70af-45c7-8b2f-6b00a3f5c18e",
   "metadata": {},
   "outputs": [
    {
     "name": "stdin",
     "output_type": "stream",
     "text": [
      "Enter your number:  79\n"
     ]
    },
    {
     "name": "stdout",
     "output_type": "stream",
     "text": [
      "79 is a prime number\n"
     ]
    }
   ],
   "source": [
    "#Task 2\n",
    "#Check for Prime Number\n",
    "#Question: Write a function to check if a given number is a prime number\n",
    "def is_prime(n):\n",
    "    if n <= 1:\n",
    "        return False\n",
    "    for i in range(2, int(n**0.5) + 1):\n",
    "        if n % i == 0:\n",
    "            return False\n",
    "    return True\n",
    "number = int(input(\"Enter your number: \"))\n",
    "if is_prime(number):\n",
    "    print (number, 'is a prime number')\n",
    "else:\n",
    "    print (number, 'is not a prime number')"
   ]
  },
  {
   "cell_type": "code",
   "execution_count": null,
   "id": "8d0b9c6a-94df-4550-af8c-260000407506",
   "metadata": {},
   "outputs": [],
   "source": []
  }
 ],
 "metadata": {
  "kernelspec": {
   "display_name": "Python [conda env:base] *",
   "language": "python",
   "name": "conda-base-py"
  },
  "language_info": {
   "codemirror_mode": {
    "name": "ipython",
    "version": 3
   },
   "file_extension": ".py",
   "mimetype": "text/x-python",
   "name": "python",
   "nbconvert_exporter": "python",
   "pygments_lexer": "ipython3",
   "version": "3.12.7"
  }
 },
 "nbformat": 4,
 "nbformat_minor": 5
}
