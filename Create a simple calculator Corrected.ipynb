{
 "cells": [
  {
   "cell_type": "code",
   "execution_count": null,
   "id": "776c7638-a2d8-4c69-8fb9-da7d9be56959",
   "metadata": {},
   "outputs": [],
   "source": [
    "#Create a simple calculator that performs basic arithmetic operations.\n",
    "    • Instructions:–– \n",
    "    - Prompt the user for two numbers and an operation (addition, subtraction, multiplication, or division).\n",
    "    - Use conditional statements to perform the requested operation and display the result."
   ]
  },
  {
   "cell_type": "code",
   "execution_count": 1,
   "id": "e716866d-f9ee-4494-a1ac-562361a99526",
   "metadata": {},
   "outputs": [
    {
     "name": "stdin",
     "output_type": "stream",
     "text": [
      "Enter your 1st number:  50\n",
      "Enter your 2nd number:  70\n",
      "Choose your operation (+,-,*,/):  *\n"
     ]
    }
   ],
   "source": [
    "num1 = float(input (\"Enter your 1st number: \"))\n",
    "num2 = float(input (\"Enter your 2nd number: \"))\n",
    "operation = input (\"Choose your operation (+,-,*,/): \")"
   ]
  },
  {
   "cell_type": "code",
   "execution_count": 1,
   "id": "e9aeda56-1529-4bdc-b7ae-69ac6f7a6cf0",
   "metadata": {},
   "outputs": [
    {
     "name": "stdin",
     "output_type": "stream",
     "text": [
      "Enter the first number:  8.9\n",
      "Enter the second number:  7.9\n",
      "Choose an operation (+, -, *, /):  +\n"
     ]
    },
    {
     "name": "stdout",
     "output_type": "stream",
     "text": [
      "Result: 16.8\n"
     ]
    }
   ],
   "source": [
    "num1 = float(input(\"Enter the first number: \"))\n",
    "num2 = float(input(\"Enter the second number: \"))\n",
    "operation = input(\"Choose an operation (+, -, *, /): \")\n",
    "if operation == '+':\n",
    "    result = num1 + num2\n",
    "    print(\"Result:\", result)\n",
    "elif operation == '-':\n",
    "    result = num1 - num2\n",
    "    print(\"Result:\", result)\n",
    "elif operation == '*':\n",
    "    result = num1 * num2\n",
    "    print(\"Result:\", result)\n",
    "elif operation == '/':\n",
    "    if num2 != 0:\n",
    "        result = num1 / num2\n",
    "        print(\"Result:\", result)\n",
    "    else:\n",
    "        print(\"Error: Cannot divide by zero.\")\n",
    "else:\n",
    "    print(\"Invalid operation selected.\")\n"
   ]
  },
  {
   "cell_type": "code",
   "execution_count": null,
   "id": "e0863b14-a608-4620-bc8e-5d2a09c9dbfa",
   "metadata": {},
   "outputs": [],
   "source": []
  }
 ],
 "metadata": {
  "kernelspec": {
   "display_name": "Python [conda env:base] *",
   "language": "python",
   "name": "conda-base-py"
  },
  "language_info": {
   "codemirror_mode": {
    "name": "ipython",
    "version": 3
   },
   "file_extension": ".py",
   "mimetype": "text/x-python",
   "name": "python",
   "nbconvert_exporter": "python",
   "pygments_lexer": "ipython3",
   "version": "3.12.7"
  }
 },
 "nbformat": 4,
 "nbformat_minor": 5
}
