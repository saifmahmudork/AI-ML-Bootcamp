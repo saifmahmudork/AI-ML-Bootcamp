{
 "cells": [
  {
   "cell_type": "markdown",
   "id": "ce9672c2-20d6-4671-8de2-b3168a42ea5a",
   "metadata": {},
   "source": [
    "# Comment --> \n",
    "- start with #\n",
    "- Comment is not a line of code\n",
    "- It helps to understand the code\n",
    "- It does not get executed"
   ]
  },
  {
   "cell_type": "code",
   "execution_count": 1,
   "id": "b5cb117a-fc1d-4db8-8eab-213d9b0325c4",
   "metadata": {},
   "outputs": [
    {
     "data": {
      "text/plain": [
       "1"
      ]
     },
     "execution_count": 1,
     "metadata": {},
     "output_type": "execute_result"
    }
   ],
   "source": [
    "# this is the first comment -->\n",
    "spam = 1 # spam is set to 1\n",
    "spam # spam --> is a variable | consider it as a memory location where you can store some value"
   ]
  },
  {
   "cell_type": "code",
   "execution_count": 2,
   "id": "98f492fb-9582-4571-b568-3ef865a79001",
   "metadata": {},
   "outputs": [
    {
     "ename": "SyntaxError",
     "evalue": "invalid syntax (1234534318.py, line 2)",
     "output_type": "error",
     "traceback": [
      "\u001b[0;36m  Cell \u001b[0;32mIn[2], line 2\u001b[0;36m\u001b[0m\n\u001b[0;31m    - () --> parenthesis\u001b[0m\n\u001b[0m          ^\u001b[0m\n\u001b[0;31mSyntaxError\u001b[0m\u001b[0;31m:\u001b[0m invalid syntax\n"
     ]
    }
   ],
   "source": [
    "print(spam) #print what is store in spam\n",
    "- () --> parenthesis"
   ]
  },
  {
   "cell_type": "code",
   "execution_count": 6,
   "id": "c216692d-835d-4cfb-b54c-d6ff4c539ba3",
   "metadata": {},
   "outputs": [
    {
     "name": "stdout",
     "output_type": "stream",
     "text": [
      "hello Coders\n",
      "hello coders\n"
     ]
    }
   ],
   "source": [
    "print(\"hello Coders\")\n",
    "print('hello coders')\n"
   ]
  },
  {
   "cell_type": "code",
   "execution_count": 4,
   "id": "921686f3-8ac0-472f-9cdf-bafdf7c7d38a",
   "metadata": {},
   "outputs": [],
   "source": [
    "#string (str) --> should be placed in \"\" (double quote) or ''(single quote)\n"
   ]
  },
  {
   "cell_type": "code",
   "execution_count": 5,
   "id": "3544dd99-636f-4f25-8fd6-502bcf2c40f7",
   "metadata": {},
   "outputs": [
    {
     "data": {
      "text/plain": [
       "'saif #comment'"
      ]
     },
     "execution_count": 5,
     "metadata": {},
     "output_type": "execute_result"
    }
   ],
   "source": [
    "str = \"saif #comment\"\n",
    "str"
   ]
  },
  {
   "cell_type": "code",
   "execution_count": 7,
   "id": "b442c015-7ddf-43ce-ba91-ca4bb8388d98",
   "metadata": {},
   "outputs": [
    {
     "data": {
      "text/plain": [
       "1"
      ]
     },
     "execution_count": 7,
     "metadata": {},
     "output_type": "execute_result"
    }
   ],
   "source": [
    "spam\n"
   ]
  },
  {
   "cell_type": "code",
   "execution_count": 8,
   "id": "4d061c94-b23a-455b-8ae9-761029610761",
   "metadata": {},
   "outputs": [
    {
     "data": {
      "text/plain": [
       "'saif #comment'"
      ]
     },
     "execution_count": 8,
     "metadata": {},
     "output_type": "execute_result"
    }
   ],
   "source": [
    "str"
   ]
  },
  {
   "cell_type": "code",
   "execution_count": 10,
   "id": "52ab2824-8c35-4618-9e0f-7470a2017eb4",
   "metadata": {},
   "outputs": [
    {
     "data": {
      "text/plain": [
       "<function print(*args, sep=' ', end='\\n', file=None, flush=False)>"
      ]
     },
     "execution_count": 10,
     "metadata": {},
     "output_type": "execute_result"
    }
   ],
   "source": [
    "print # best coding practices\n",
    "print( )"
   ]
  },
  {
   "cell_type": "code",
   "execution_count": 11,
   "id": "43c1489d-a3c3-4689-b890-d5a19da4a45b",
   "metadata": {},
   "outputs": [
    {
     "data": {
      "text/plain": [
       "4"
      ]
     },
     "execution_count": 11,
     "metadata": {},
     "output_type": "execute_result"
    }
   ],
   "source": [
    "2+2"
   ]
  },
  {
   "cell_type": "code",
   "execution_count": 12,
   "id": "774f44a4-e254-4fb5-8291-0ae884647489",
   "metadata": {},
   "outputs": [
    {
     "data": {
      "text/plain": [
       "805"
      ]
     },
     "execution_count": 12,
     "metadata": {},
     "output_type": "execute_result"
    }
   ],
   "source": [
    "23*35"
   ]
  },
  {
   "cell_type": "code",
   "execution_count": null,
   "id": "e32bb90a-11a7-4105-a158-e10483ce2f95",
   "metadata": {},
   "outputs": [],
   "source": [
    "#calculator using normally"
   ]
  },
  {
   "cell_type": "code",
   "execution_count": 20,
   "id": "1453e5b9-3755-4164-a97e-0803ba52d468",
   "metadata": {},
   "outputs": [
    {
     "name": "stdout",
     "output_type": "stream",
     "text": [
      " a is 10 and b is 23\n",
      "a is 10 and b is 23 and their sum is 33\n"
     ]
    }
   ],
   "source": [
    "# Assign a variable \n",
    "a = 10 # a is a variable and 10 is the value assigned to it \n",
    "# variable name should be self-explanatory (proper)\n",
    "b = 23\n",
    "\n",
    "# print the values using an f string (formatted string literals) \n",
    "print( f\" a is {a} and b is {b}\")\n",
    "#using .format() method\n",
    "print(\"a is {} and b is {} and their sum is {}\".format(a, b, a+b))"
   ]
  },
  {
   "cell_type": "code",
   "execution_count": null,
   "id": "fb460d39-38dc-47aa-802c-fb4aba80624d",
   "metadata": {},
   "outputs": [],
   "source": []
  }
 ],
 "metadata": {
  "kernelspec": {
   "display_name": "Python [conda env:base] *",
   "language": "python",
   "name": "conda-base-py"
  },
  "language_info": {
   "codemirror_mode": {
    "name": "ipython",
    "version": 3
   },
   "file_extension": ".py",
   "mimetype": "text/x-python",
   "name": "python",
   "nbconvert_exporter": "python",
   "pygments_lexer": "ipython3",
   "version": "3.12.7"
  }
 },
 "nbformat": 4,
 "nbformat_minor": 5
}
