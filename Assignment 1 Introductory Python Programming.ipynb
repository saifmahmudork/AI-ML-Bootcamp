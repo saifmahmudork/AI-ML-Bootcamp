{
 "cells": [
  {
   "cell_type": "code",
   "execution_count": 6,
   "id": "850b1e28-8377-44b3-af95-e6913a82fbed",
   "metadata": {},
   "outputs": [
    {
     "name": "stdin",
     "output_type": "stream",
     "text": [
      "Enter your age:  7\n"
     ]
    },
    {
     "name": "stdout",
     "output_type": "stream",
     "text": [
      "You are not eligible to vote.\n"
     ]
    }
   ],
   "source": [
    "#Task 1: Simple Voting Eligibility Check\n",
    "#•Task: Write a program that checks if a user is eligible to vote.\n",
    "#•Instructions:\n",
    "#–Ask the user for their age and use a conditional statement to check if they are at least 18 years old.\n",
    "#–Print a message indicating whether they are eligible to vote or not.\n",
    "age = int(input(\"Enter your age: \"))\n",
    "if age >= 18:\n",
    "    print(\"You are eligible to vote.\")\n",
    "else:\n",
    "    print(\"You are not eligible to vote.\")"
   ]
  },
  {
   "cell_type": "code",
   "execution_count": 5,
   "id": "5d65dfa7-5a52-4049-adac-94d36b53f99c",
   "metadata": {},
   "outputs": [
    {
     "name": "stdin",
     "output_type": "stream",
     "text": [
      "Enter the first number:  67\n",
      "Enter the second number:  98.76\n",
      "Choose an operation (+, -, *, /):  /\n"
     ]
    },
    {
     "name": "stdout",
     "output_type": "stream",
     "text": [
      "Result: 0.6784123126771973\n"
     ]
    }
   ],
   "source": [
    "#Task 2: Create a simple calculator\n",
    "#•Task: Create a simple calculator that performs basic arithmetic operations.\n",
    "#•Instructions:\n",
    "#–Prompt the user for two numbers and an operation (addition, subtraction, multiplication, or division).\n",
    "#–Use conditional statements to perform the requested operation and display the result.\n",
    "num1 = float(input(\"Enter the first number: \"))\n",
    "num2 = float(input(\"Enter the second number: \"))\n",
    "operation = input(\"Choose an operation (+, -, *, /): \")\n",
    "if operation == '+':\n",
    "    result = num1 + num2\n",
    "    print(\"Result:\", result)\n",
    "elif operation == '-':\n",
    "    result = num1 - num2\n",
    "    print(\"Result:\", result)\n",
    "elif operation == '*':\n",
    "    result = num1 * num2\n",
    "    print(\"Result:\", result)\n",
    "elif operation == '/':\n",
    "    if num2 != 0:\n",
    "        result = num1 / num2\n",
    "        print(\"Result:\", result)\n",
    "    else:\n",
    "        print(\"Error: Cannot divide by zero.\")\n",
    "else:\n",
    "    print(\"Invalid operation selected.\")\n"
   ]
  },
  {
   "cell_type": "code",
   "execution_count": 3,
   "id": "0a753485-0d0f-49c5-9372-158e61ac6216",
   "metadata": {},
   "outputs": [],
   "source": [
    "#1.Find the Maximum and Minimum of a List\n",
    "#–Question: Given a list of numbers, find the maximum and minimum values.\n",
    "numbers = [45, 67, 89, 44, 70, 90, 54, 42]\n",
    "maximum = max(numbers)\n",
    "minimum = min(numbers)\n",
    "print (\"Maximum:\", maximum)\n",
    "print (\"Minimum:\", minimum)"
   ]
  },
  {
   "cell_type": "code",
   "execution_count": 10,
   "id": "9fc28ad5-5909-46b6-b5ba-e4d9b4a6aac9",
   "metadata": {},
   "outputs": [
    {
     "name": "stdin",
     "output_type": "stream",
     "text": [
      "Enter your number:  8\n"
     ]
    },
    {
     "name": "stdout",
     "output_type": "stream",
     "text": [
      "8 is not a prime number\n"
     ]
    }
   ],
   "source": [
    "#2.Check for Prime Number\n",
    "#–Question: Write a function to check if a given number is a prime number.\n",
    "def is_prime(n):\n",
    "    if n <= 1:\n",
    "        return False\n",
    "    for i in range(2, int(n**0.5) + 1):\n",
    "        if n % i == 0:\n",
    "            return False\n",
    "    return True\n",
    "number = int(input(\"Enter your number: \"))\n",
    "if is_prime(number):\n",
    "    print (number, 'is a prime number')\n",
    "else:\n",
    "    print (number, 'is not a prime number')"
   ]
  },
  {
   "cell_type": "code",
   "execution_count": 5,
   "id": "3b34924d-8892-4e7d-ba0e-525d35aa527e",
   "metadata": {},
   "outputs": [
    {
     "name": "stdin",
     "output_type": "stream",
     "text": [
      "Enter a number:  -1\n"
     ]
    },
    {
     "name": "stdout",
     "output_type": "stream",
     "text": [
      "Factorial is not defined\n"
     ]
    }
   ],
   "source": [
    "#3.Factorial of a Number\n",
    "#–Question: Compute the factorial of a given number using recursion.\n",
    "def factorial(n):\n",
    "    if n == 0 or n ==1:\n",
    "        return 1\n",
    "    else:\n",
    "        return n * factorial (n-1)\n",
    "number = int(input (\"Enter a number: \"))\n",
    "if number < 0:\n",
    "    print (\"Factorial is not defined\")\n",
    "else:\n",
    "    print (\"Factorial of\", number, \"is\", factorial(number))\n",
    "                    \n"
   ]
  },
  {
   "cell_type": "code",
   "execution_count": 10,
   "id": "a2b94087-cdbc-4751-9602-1b252b66dabe",
   "metadata": {},
   "outputs": [
    {
     "name": "stdin",
     "output_type": "stream",
     "text": [
      "Enter a number of terms:  9\n"
     ]
    },
    {
     "name": "stdout",
     "output_type": "stream",
     "text": [
      "Fibonacci sequance: \n",
      "0 1 1 2 3 5 8 13 21 "
     ]
    }
   ],
   "source": [
    "#4.Fibonacci Sequence\n",
    "#–Question: Generate the Fibonacci sequence up to a given number of terms.\n",
    "n = int(input(\"Enter a number of terms: \"))\n",
    "a = 0\n",
    "b = 1\n",
    "print(\"Fibonacci sequance: \")\n",
    "for i in range(n):\n",
    "    print (a, end = \" \")\n",
    "    a, b = b, a+b\n"
   ]
  },
  {
   "cell_type": "code",
   "execution_count": 12,
   "id": "8ebb2b2b-bc0c-44e4-8acc-6ca1901ce1d5",
   "metadata": {},
   "outputs": [
    {
     "name": "stdin",
     "output_type": "stream",
     "text": [
      "Enter your Number:  98\n"
     ]
    },
    {
     "name": "stdout",
     "output_type": "stream",
     "text": [
      "sum of digits:  17\n"
     ]
    }
   ],
   "source": [
    "#5.Sum of Digits\n",
    "#–Question: Write a function to calculate the sum of digits of a given integer.\n",
    "num = int(input(\"Enter your Number: \"))\n",
    "num = abs(num)\n",
    "total = 0\n",
    "while num > 0:\n",
    "    digit = num % 10\n",
    "    total += digit \n",
    "    num = num // 10\n",
    "print (\"sum of digits: \", total)\n",
    "          \n"
   ]
  },
  {
   "cell_type": "code",
   "execution_count": 2,
   "id": "42420c82-0528-46b8-bd37-d2fa7a32597b",
   "metadata": {},
   "outputs": [
    {
     "name": "stdin",
     "output_type": "stream",
     "text": [
      "Enter your Decimal Number: 90\n"
     ]
    },
    {
     "name": "stdout",
     "output_type": "stream",
     "text": [
      "Binary = 1011010 \n"
     ]
    }
   ],
   "source": [
    "#6. Convert Decimal to Binary\n",
    "#–Question: Convert a decimal number to its binary representation.\n",
    "num = int(input(\"Enter your Decimal Number:\"))\n",
    "binary =\" \"\n",
    "if num ==0:\n",
    "    binary = \"0\"\n",
    "else:\n",
    "    while num > 0:\n",
    "        binary = str(num%2) + binary\n",
    "        num = num //2\n",
    "print(\"Binary =\", binary)\n"
   ]
  },
  {
   "cell_type": "code",
   "execution_count": 6,
   "id": "9371b8f3-7f18-47c6-9222-61dbae088442",
   "metadata": {},
   "outputs": [
    {
     "name": "stdout",
     "output_type": "stream",
     "text": [
      "gcd is: 14\n"
     ]
    }
   ],
   "source": [
    "#7.Greatest Common Divisor (GCD)\n",
    "#–Question: Compute the greatest common divisor of two numbers using Euclid’s\n",
    "def gcd (a, b):\n",
    "    while b!=0:\n",
    "        a, b = b, a%b\n",
    "    return a\n",
    "num1 = 56\n",
    "num2 = 98\n",
    "print (\"gcd is:\", gcd(num1,num2))"
   ]
  },
  {
   "cell_type": "code",
   "execution_count": 13,
   "id": "d92426ca-4751-4896-8181-1e4a93ed940d",
   "metadata": {},
   "outputs": [
    {
     "name": "stdout",
     "output_type": "stream",
     "text": [
      "Second largest number = 79\n"
     ]
    }
   ],
   "source": [
    "#8.Find the Second Largest Number in a List\n",
    "#–Question: Given a list of numbers, find the second largest number.\n",
    "numbers = [5,56,79,45,25,89]\n",
    "numbers.sort()\n",
    "print('Second largest number =', numbers[-2])"
   ]
  },
  {
   "cell_type": "code",
   "execution_count": 17,
   "id": "eb9b85a9-3115-4ae1-a881-67d4bc819730",
   "metadata": {},
   "outputs": [
    {
     "name": "stdout",
     "output_type": "stream",
     "text": [
      "Number of Digits= 15\n"
     ]
    }
   ],
   "source": [
    "#9.Count the Number of Digits in a Number\n",
    "#–Question: Count the number of digits in a given integer.\n",
    "number =744838734983734\n",
    "count = len(str(abs(number)))\n",
    "print(\"Number of Digits=\", count)"
   ]
  },
  {
   "cell_type": "code",
   "execution_count": 21,
   "id": "74ed2172-47d6-44a8-8672-17854ec42d1f",
   "metadata": {},
   "outputs": [
    {
     "name": "stdout",
     "output_type": "stream",
     "text": [
      "38 is not power of two\n"
     ]
    }
   ],
   "source": [
    "#10. Check if a Number is a Power of Two\n",
    "#–Question: Determine if a given number is a power of two.\n",
    "num = 38\n",
    "i = 1\n",
    "while i < num:\n",
    "    i *= 2\n",
    "if i == num:\n",
    "    print(num, \"is power of tow\")\n",
    "else:\n",
    "    print(num, \"is not power of two\")"
   ]
  },
  {
   "cell_type": "code",
   "execution_count": null,
   "id": "36582ef4-1f6f-4f29-810d-12e5a0b99d84",
   "metadata": {},
   "outputs": [],
   "source": []
  }
 ],
 "metadata": {
  "kernelspec": {
   "display_name": "Python [conda env:base] *",
   "language": "python",
   "name": "conda-base-py"
  },
  "language_info": {
   "codemirror_mode": {
    "name": "ipython",
    "version": 3
   },
   "file_extension": ".py",
   "mimetype": "text/x-python",
   "name": "python",
   "nbconvert_exporter": "python",
   "pygments_lexer": "ipython3",
   "version": "3.12.7"
  }
 },
 "nbformat": 4,
 "nbformat_minor": 5
}
