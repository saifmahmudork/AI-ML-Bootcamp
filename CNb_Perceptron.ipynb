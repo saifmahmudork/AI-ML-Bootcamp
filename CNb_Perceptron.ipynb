{
 "cells": [
  {
   "cell_type": "code",
   "execution_count": null,
   "id": "6034bd05-e56b-4184-aaa2-99b4db000732",
   "metadata": {},
   "outputs": [],
   "source": [
    "# WIll I Wake Up on Time?\n",
    "Alarm Volume      Sleep Hours   Wake Up? \n",
    "     0                9            0(NO) \n",
    "     1                8            0(NO) \n",
    "     2                6            1(Yes)        \n",
    "     3                4            1(Yes) "
   ]
  },
  {
   "cell_type": "code",
   "execution_count": 37,
   "id": "eb0bc2ab-3ffd-4d80-98c6-4a48d9f315c3",
   "metadata": {},
   "outputs": [],
   "source": [
    "import numpy as np"
   ]
  },
  {
   "cell_type": "code",
   "execution_count": 39,
   "id": "99b741bd-1d9b-45a7-8247-876a320af7ae",
   "metadata": {},
   "outputs": [],
   "source": [
    "def act_fun(x):\n",
    "    return 1 if x >=0 else 0"
   ]
  },
  {
   "cell_type": "code",
   "execution_count": 41,
   "id": "2ac1d7ac-47d3-46ad-bb69-182889070d66",
   "metadata": {},
   "outputs": [],
   "source": [
    "class Perceptron:\n",
    "    def __init__(self, input_size, lr=0.1, epochs=10): #Constructor\n",
    "        self.weights = np.zeros(input_size + 1)#np.zeros(3)\n",
    "        self.lr = lr\n",
    "        self.epochs = epochs\n",
    "\n",
    "    def predict(self,x): #x=[0,9]\n",
    "        x = np.insert(x,0,1) #[1,0,9] insert 1 at 0th location of x\n",
    "        z = np.dot(self.weights, x)\n",
    "        return act_fun(z)\n",
    "\n",
    "    def train(self, X, y):\n",
    "        for _ in range(self.epochs): #range(10)\n",
    "            for xi, target in zip(X,y):\n",
    "                xi = np.insert(xi,0,1) # [0,9] -> [1,0,9]\n",
    "                prediction = self.predict(xi[1:]) #[0,9]\n",
    "                error = target - prediction\n",
    "                self.weights += self.lr*error*xi # adjusting the weighht\n",
    "                \n",
    "            "
   ]
  },
  {
   "cell_type": "code",
   "execution_count": 43,
   "id": "cb64980d-3ac8-4371-b168-0b8540fa70f5",
   "metadata": {},
   "outputs": [],
   "source": [
    "# Data [alarm volume, sleep hours]\n",
    "X = np.array([[0,9],\n",
    "              [1,8],\n",
    "              [2,6],\n",
    "              [3,4]])\n",
    "\n",
    "y = np.array([0,0,1,1])"
   ]
  },
  {
   "cell_type": "code",
   "execution_count": 45,
   "id": "651e6f9d-9741-4731-95d9-4b598af3ef7d",
   "metadata": {},
   "outputs": [],
   "source": [
    "p = Perceptron(input_size = 2)\n",
    "p.train(X,y)"
   ]
  },
  {
   "cell_type": "code",
   "execution_count": 47,
   "id": "23218315-0ec0-461e-9dbb-2bd22d89ef07",
   "metadata": {},
   "outputs": [
    {
     "name": "stdout",
     "output_type": "stream",
     "text": [
      "Input:[0 9] - Prediction 0\n",
      "Input:[1 8] - Prediction 0\n",
      "Input:[2 6] - Prediction 1\n",
      "Input:[3 4] - Prediction 1\n"
     ]
    }
   ],
   "source": [
    "#Test\n",
    "for input in X:\n",
    "    print(f\"Input:{input} - Prediction {p.predict(input)}\")"
   ]
  },
  {
   "cell_type": "code",
   "execution_count": null,
   "id": "e8c95143-ad37-43b9-9b35-7cdc17a34f99",
   "metadata": {},
   "outputs": [],
   "source": []
  }
 ],
 "metadata": {
  "kernelspec": {
   "display_name": "Python 3 (ipykernel)",
   "language": "python",
   "name": "python3"
  },
  "language_info": {
   "codemirror_mode": {
    "name": "ipython",
    "version": 3
   },
   "file_extension": ".py",
   "mimetype": "text/x-python",
   "name": "python",
   "nbconvert_exporter": "python",
   "pygments_lexer": "ipython3",
   "version": "3.12.7"
  }
 },
 "nbformat": 4,
 "nbformat_minor": 5
}
